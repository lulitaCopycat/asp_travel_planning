{
 "cells": [
  {
   "cell_type": "code",
   "execution_count": 3,
   "metadata": {},
   "outputs": [],
   "source": [
    "import math\n",
    "def pythagoras(a,b):\n",
    "    c=math.sqrt(math.pow(a,2)+math.pow(b,2))\n",
    "    return c"
   ]
  },
  {
   "cell_type": "code",
   "execution_count": 23,
   "metadata": {},
   "outputs": [
    {
     "name": "stdout",
     "output_type": "stream",
     "text": [
      "176\n"
     ]
    }
   ],
   "source": [
    "pythagoras(3,4)\n",
    "print(360-184)"
   ]
  },
  {
   "cell_type": "code",
   "execution_count": null,
   "metadata": {},
   "outputs": [],
   "source": [
    "\n",
    "'''\n",
    "long_distances(S, F,T, LONG_F, LONG_T):- long_lat_vals(_,LONG_F,F,_,LONG_T,T), LONG_F>0, LONG_T>0, S=|LONG_F-LONG_T|.\n",
    "long_distances(S, F,T, LONG_F, LONG_T):- long_lat_vals(_,LONG_F,F,_,LONG_T,T), LONG_F<0, LONG_T<0, S=|LONG_F-LONG_T|.\n",
    "    \n",
    "long_distances(S, F,T, LONG_F, LONG_T):- long_lat_vals(_,LONG_F,F,_,LONG_T,T), LONG_F>0, LONG_T<0, S=LONG_F+|LONG_T|, S<=180.\n",
    "long_distances(S, F,T, LONG_F, LONG_T):- long_lat_vals(_,LONG_F,F,_,LONG_T,T), LONG_F<0, LONG_T>0, S=|LONG_F|+LONG_T, S<=180.\n",
    "long_distances(SM, F,T, LONG_F, LONG_T):- long_lat_vals(_,LONG_F,F,_,LONG_T,T), LONG_F>0, LONG_T<0, S=LONG_F+|LONG_T|, S>180, SM=360-S.\n",
    "long_distances(SM, F,T, LONG_F, LONG_T):- long_lat_vals(_,LONG_F,F,_,LONG_T,T), LONG_F<0, LONG_T>0, S=|LONG_F|+LONG_T, S>180, SM=360-S.\n",
    "\n",
    "lat_distance(S, F,T, LAT_F, LAT_T):- long_lat_vals(LAT_F,_,F, LAT_T,_,T), LAT_F>=0, LAT_T>=0, S=|LAT_F-LAT_T|.\n",
    "lat_distance(S, F,T, LAT_F, LAT_T):- long_lat_vals(LAT_F,_,F, LAT_T,_,T), LAT_F<0, LAT_T<0,   S=|LAT_F-LAT_T|.\n",
    "    \n",
    "lat_distance(S, F,T, LAT_F, LAT_T):- long_lat_vals(LAT_F,_,F, LAT_T,_,T), LAT_F<0, LAT_T>=0, S=|LAT_F|+LAT_T.\n",
    "lat_distance(S, F,T, LAT_F, LAT_T):- long_lat_vals(LAT_F,_,F, LAT_T,_,T), LAT_F>=0, LAT_T<0, S=LAT_F+|LAT_T|.\n",
    "\n",
    "'''"
   ]
  },
  {
   "cell_type": "code",
   "execution_count": 22,
   "metadata": {},
   "outputs": [
    {
     "data": {
      "text/plain": [
       "176"
      ]
     },
     "execution_count": 22,
     "metadata": {},
     "output_type": "execute_result"
    }
   ],
   "source": [
    "abs(-3)\n",
    "\n",
    "def test_longi(a,b):\n",
    "    res = 180+abs(-4)\n",
    "    longi=res if res<=180 else 360-res\n",
    "    return longi\n",
    "test_longi(3,-2)"
   ]
  },
  {
   "cell_type": "code",
   "execution_count": 29,
   "metadata": {},
   "outputs": [],
   "source": [
    "#long_lat_vals coming with: LAT_From, LONG_From, From, LAT_To, LONG_To, To.\n",
    "def get_length(f_lat,f_long, t_lat,t_long):\n",
    "\n",
    "    \n",
    "    if (f_long>0 and t_long>0) or (f_long<0 and t_long<0):\n",
    "        longi = abs(f_long-t_long)\n",
    "    elif f_long>0 and t_long<0:\n",
    "        res = f_long+abs(t_long)\n",
    "        longi = res if res<=180 else 360-res\n",
    "    elif f_long<0 and t_long>0:\n",
    "        res = t_long+abs(f_long)\n",
    "        longi = res if res<=180 else 360-res\n",
    "    \n",
    "    if (f_lat<0 and t_lat<0) or (f_lat>=0 and t_lat>=0):\n",
    "        lati = abs(f_lat-t_lat)\n",
    "    elif LAT_F<0 and LAT_T>=0:\n",
    "        lati = abs(f_lat)+t_lat\n",
    "    elif f_lat>=0 and t_lat<0:\n",
    "        lati = f_lat+abs(t_lat)\n",
    "    \n",
    "    return longi, lati\n",
    "\n",
    "def get_distance(f_lat,f_long,f, t_lat,t_long, t):\n",
    "    formatted_f_lat = float(f_lat.string)\n",
    "    formatted_f_long = float(f_long.string)\n",
    "    formatted_t_lat = float(t_lat.string)\n",
    "    formatted_t_long = float(t_long.string)\n",
    "    \n",
    "#    longi, lati = get_length(f_lat,f_long, t_lat,t_long)\n",
    "    longi, lati = get_length(formatted_f_lat,formatted_f_long, formatted_t_lat,formatted_t_long)\n",
    "    c=math.sqrt(math.pow(longi,2)+math.pow(lati,2))       \n",
    "\n",
    "#    c=math.sqrt(math.pow(float(A.string),2)+math.pow(float(B.string),2))\n",
    "    return str(c), f,t\n"
   ]
  },
  {
   "cell_type": "code",
   "execution_count": 30,
   "metadata": {},
   "outputs": [
    {
     "data": {
      "text/plain": [
       "('from somewhere', 'to somewhere', 10.339999999999996, 2.7600000000000016)"
      ]
     },
     "execution_count": 30,
     "metadata": {},
     "output_type": "execute_result"
    }
   ],
   "source": [
    "get_length(16.3, 43.09,'from somewhere', 13.54,53.43, 'to somewhere')"
   ]
  },
  {
   "cell_type": "code",
   "execution_count": null,
   "metadata": {},
   "outputs": [],
   "source": [
    "def get_lengths(f_lat,f_long,f, t_lat,t_long, t):\n",
    "    from_dest = f\n",
    "    to_dest =t\n",
    "    \n",
    "    if (f_long>0 and t_long>0) or (f_long<0 and t_long<0):\n",
    "        longi = abs(f_long-t_long)\n",
    "    elif f_long>0 and t_long<0:\n",
    "        res = f_long+abs(t_long)\n",
    "        longi = res if res<=180 else 360-res\n",
    "    elif f_long<0 and t_long>0:\n",
    "        res = t_long+abs(f_long)\n",
    "        longi = res if res<=180 else 360-res\n",
    "    \n",
    "    if (f_lat<0 and t_lat<0) or (f_lat>=0 and t_lat>=0):\n",
    "        lati = abs(f_lat-t_lat)\n",
    "    elif LAT_F<0 and LAT_T>=0:\n",
    "        lati = abs(f_lat)+t_lat\n",
    "    elif f_lat>=0 and t_lat<0:\n",
    "        lati = f_lat+abs(t_lat)\n",
    "    \n",
    "    return from_dest,to_dest, longi, lati"
   ]
  }
 ],
 "metadata": {
  "kernelspec": {
   "display_name": "Python 3",
   "language": "python",
   "name": "python3"
  },
  "language_info": {
   "codemirror_mode": {
    "name": "ipython",
    "version": 3
   },
   "file_extension": ".py",
   "mimetype": "text/x-python",
   "name": "python",
   "nbconvert_exporter": "python",
   "pygments_lexer": "ipython3",
   "version": "3.7.4"
  }
 },
 "nbformat": 4,
 "nbformat_minor": 2
}
